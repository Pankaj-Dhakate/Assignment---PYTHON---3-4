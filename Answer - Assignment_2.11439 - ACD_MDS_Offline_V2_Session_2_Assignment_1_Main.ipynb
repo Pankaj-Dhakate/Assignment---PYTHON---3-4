{
 "cells": [
  {
   "cell_type": "markdown",
   "metadata": {},
   "source": [
    "## Task 1:\n",
    "#### 1.1 Write a Python Program to implement your own myreduce() function which works exactly like Python's built-in function reduce()"
   ]
  },
  {
   "cell_type": "code",
   "execution_count": 54,
   "metadata": {},
   "outputs": [
    {
     "name": "stdout",
     "output_type": "stream",
     "text": [
      "List is reduced to Value => 21\n"
     ]
    }
   ],
   "source": [
    "def add(x1, x2): return x1 + x2\n",
    "def myreduce(func, seq):\n",
    "    first = seq[0]\n",
    "    for i in seq[1:]:\n",
    "        first = func(first, i)\n",
    "    return first\n",
    "l=[2,5,8,5,1]\n",
    "print(\"List is reduced to Value => {}\".format(myreduce(add, l)))"
   ]
  },
  {
   "cell_type": "markdown",
   "metadata": {},
   "source": [
    "## Task 1:\n",
    "#### 1.2 Write a Python program to implement your own myfilter() function which works exactly like Python's built-in function filter()"
   ]
  },
  {
   "cell_type": "code",
   "execution_count": 55,
   "metadata": {},
   "outputs": [
    {
     "name": "stdout",
     "output_type": "stream",
     "text": [
      "Even Nos. in the list are => [14, 64, 50]\n"
     ]
    }
   ],
   "source": [
    "def myfilter(nums):\n",
    "    list1 = []\n",
    "    for num in nums:\n",
    "        if num % 2 == 0:\n",
    "            list1.append(num)\n",
    "    return list1\n",
    "l=[33, 14, 64, 17, 50, 1]\n",
    "print(\"Even Nos. in the list are => {}\". format(myfilter(l)))"
   ]
  },
  {
   "cell_type": "markdown",
   "metadata": {},
   "source": [
    "## Task 1:\n",
    "#### 2 \n",
    "#### Implement List comprehensions to produce the following lists. Write List comprehensions to produce the following Lists ['A', 'C', 'A', 'D', 'G', 'I', ’L’, ‘ D’]                                                                                ['x', 'xx', 'xxx', 'xxxx', 'y', 'yy', 'yyy', 'yyyy', 'z', 'zz', 'zzz', 'zzzz'] ['x', 'y', 'z', 'xx', 'yy', 'zz', 'xx', 'yy', 'zz', 'xxxx', 'yyyy', 'zzzz'] [[2], [3], [4], [3], [4], [5], [4], [5], [6]] [[2, 3, 4, 5], [3, 4, 5, 6], [4, 5, 6, 7], [5, 6, 7, 8]] [(1, 1), (2, 1), (3, 1), (1, 2), (2, 2), (3, 2), (1, 3), (2, 3), (3, 3)]\n"
   ]
  },
  {
   "cell_type": "code",
   "execution_count": 59,
   "metadata": {},
   "outputs": [
    {
     "name": "stdin",
     "output_type": "stream",
     "text": [
      "Enter the String -> acadgild\n"
     ]
    },
    {
     "data": {
      "text/plain": [
       "['A', 'C', 'A', 'D', 'G', 'I', 'L', 'D']"
      ]
     },
     "execution_count": 59,
     "metadata": {},
     "output_type": "execute_result"
    }
   ],
   "source": [
    "# To produce the following Lists ['A', 'C', 'A', 'D', 'G', 'I', ’L’, ‘ D’]\n",
    "\n",
    "string=input(\"Enter the String ->\")                               # acadgild\n",
    "l=[string[i].upper() for i in range(len(string))]                \n",
    "l"
   ]
  },
  {
   "cell_type": "code",
   "execution_count": 60,
   "metadata": {},
   "outputs": [
    {
     "name": "stdin",
     "output_type": "stream",
     "text": [
      "Enter the String -> xyz\n",
      "Enter the repeats you want -> 4\n"
     ]
    },
    {
     "data": {
      "text/plain": [
       "['x', 'xx', 'xxx', 'xxxx', 'y', 'yy', 'yyy', 'yyyy', 'z', 'zz', 'zzz', 'zzzz']"
      ]
     },
     "execution_count": 60,
     "metadata": {},
     "output_type": "execute_result"
    }
   ],
   "source": [
    "# To produce the following Lists ['x', 'xx', 'xxx', 'xxxx', 'y', 'yy', 'yyy', 'yyyy', 'z', 'zz', 'zzz', 'zzzz']\n",
    "\n",
    "string=input(\"Enter the String ->\")                                            # xyz\n",
    "repeats=int(input(\"Enter the repeats you want ->\"))                            # 4\n",
    "l=[string[i]*j for i in range(len(string)) for j in range(1,repeats+1)]\n",
    "l"
   ]
  },
  {
   "cell_type": "code",
   "execution_count": 51,
   "metadata": {},
   "outputs": [
    {
     "name": "stdin",
     "output_type": "stream",
     "text": [
      "Enter the String -> xyz\n",
      "Enter the repeats you want -> 4\n"
     ]
    },
    {
     "data": {
      "text/plain": [
       "['x', 'y', 'z', 'xx', 'yy', 'zz', 'xxx', 'yyy', 'zzz', 'xxxx', 'yyyy', 'zzzz']"
      ]
     },
     "execution_count": 51,
     "metadata": {},
     "output_type": "execute_result"
    }
   ],
   "source": [
    "# To produce the following Lists ['x', 'y', 'z', 'xx', 'yy', 'zz', 'xx', 'yy', 'zz', 'xxxx', 'yyyy', 'zzzz']\n",
    "\n",
    "string=input(\"Enter the String ->\")                                            # xyz\n",
    "repeats=int(input(\"Enter the repeats you want ->\"))                            # 4\n",
    "l=[string[i]*j for j in range(1,repeats+1) for i in range(len(string))]\n",
    "l"
   ]
  },
  {
   "cell_type": "code",
   "execution_count": 116,
   "metadata": {},
   "outputs": [
    {
     "data": {
      "text/plain": [
       "[[2], [3], [4], [3], [4], [5], [4], [5], [6]]"
      ]
     },
     "execution_count": 116,
     "metadata": {},
     "output_type": "execute_result"
    }
   ],
   "source": [
    "# To produce the following Lists [[2], [3], [4], [3], [4], [5], [4], [5], [6]] \n",
    "\n",
    "number_list = [2,3,4]\n",
    "l=[[i+j] for i in number_list for j in range(0,3)]\n",
    "l"
   ]
  },
  {
   "cell_type": "code",
   "execution_count": 117,
   "metadata": {},
   "outputs": [
    {
     "data": {
      "text/plain": [
       "[[2, 3, 4, 5], [3, 4, 5, 6], [4, 5, 6, 7]]"
      ]
     },
     "execution_count": 117,
     "metadata": {},
     "output_type": "execute_result"
    }
   ],
   "source": [
    "# To produce the following Lists [[2, 3, 4, 5], [3, 4, 5, 6], [4, 5, 6, 7], [5, 6, 7, 8]]\n",
    "\n",
    "number_list = [2,3,4,5]\n",
    "l=[[i+j for i in number_list] for j in range(0,3)]\n",
    "l"
   ]
  },
  {
   "cell_type": "code",
   "execution_count": 122,
   "metadata": {},
   "outputs": [
    {
     "data": {
      "text/plain": [
       "[(1, 1), (2, 1), (3, 1), (1, 2), (2, 2), (3, 2), (1, 3), (2, 3), (3, 3)]"
      ]
     },
     "execution_count": 122,
     "metadata": {},
     "output_type": "execute_result"
    }
   ],
   "source": [
    "# To produce the following Lists [(1, 1), (2, 1), (3, 1), (1, 2), (2, 2), (3, 2), (1, 3), (2, 3), (3, 3)]\n",
    "\n",
    "number_list = [1,2,3]\n",
    "l=[(j,i) for i in number_list for j in number_list]\n",
    "l"
   ]
  },
  {
   "cell_type": "markdown",
   "metadata": {},
   "source": [
    "## Task 1:\n",
    "#### 3.  Implement a function longestWord() that takes a list of words and returns the longest one."
   ]
  },
  {
   "cell_type": "code",
   "execution_count": 61,
   "metadata": {},
   "outputs": [
    {
     "name": "stdin",
     "output_type": "stream",
     "text": [
      "Enter the string to make list of words -> i am working in telecommunications\n"
     ]
    },
    {
     "name": "stdout",
     "output_type": "stream",
     "text": [
      "The longest word is => telecommunications\n"
     ]
    }
   ],
   "source": [
    "def longest_word (x):\n",
    "    length=0\n",
    "    for i in range(len(x)):\n",
    "        if len(x[i])>length:\n",
    "            length=len(x[i])\n",
    "            longest=x[i]\n",
    "    return longest\n",
    "\n",
    "string=input(\"Enter the string to make list of words ->\")    # i am working in telecommunications    \n",
    "l=string.split()\n",
    "print(\"The longest word is => {}\".format(longest_word(l)))"
   ]
  },
  {
   "cell_type": "markdown",
   "metadata": {},
   "source": [
    "## Task 2:\n",
    "#### 1.1\n",
    "#### Write a Python Program(with class concepts) to find the area of the triangle using the below formula. area = (s*(s-a)*(s-b)*(s-c)) ** 0.5 Function to take the length of the sides of triangle from user should be defined in the parent class and function to calculate the area should be defined in subclass."
   ]
  },
  {
   "cell_type": "code",
   "execution_count": 68,
   "metadata": {},
   "outputs": [
    {
     "name": "stdin",
     "output_type": "stream",
     "text": [
      "Enter length of side1 of triangle =>  5\n",
      "Enter length of side2 of triangle =>  6\n",
      "Enter length of side3 of triangle =>  7\n"
     ]
    },
    {
     "name": "stdout",
     "output_type": "stream",
     "text": [
      "Area of Triangle =>  14.697\n"
     ]
    }
   ],
   "source": [
    "class sides_triangle():\n",
    "    def __init__(self,side1,side2,side3,s1):\n",
    "        self.side1=side1\n",
    "        self.side2=side2\n",
    "        self.side3=side3\n",
    "        self.s=s1\n",
    "    def area_triangle(self):\n",
    "        return (self.s*(self.s-self.side1)*(self.s-self.side2)*(self.s-self.side3))**0.5\n",
    "    \n",
    "a=int(input(\"Enter length of side1 of triangle => \"))\n",
    "b=int(input(\"Enter length of side2 of triangle => \"))\n",
    "c=int(input(\"Enter length of side3 of triangle => \"))\n",
    "s=(a+b+c)/2\n",
    "objects=sides_triangle(a,b,c,s)\n",
    "print(\"Area of Triangle => \",round(objects.area_triangle(),3))"
   ]
  },
  {
   "cell_type": "markdown",
   "metadata": {},
   "source": [
    "## Task 2:\n",
    "#### 1.2 Write a function filter_long_words() that takes a list of words and an integer n and returns the list of words that are longer than n."
   ]
  },
  {
   "cell_type": "code",
   "execution_count": 62,
   "metadata": {},
   "outputs": [
    {
     "name": "stdin",
     "output_type": "stream",
     "text": [
      "Enter the string to make list of words -> my name is pankaj pandharinath dhakate\n",
      "Enter the integer to find list of words that are longer than integer-n =>  4\n"
     ]
    },
    {
     "name": "stdout",
     "output_type": "stream",
     "text": [
      "The list of words that are longer than integer-n => ['pankaj', 'pandharinath', 'dhakate']\n"
     ]
    }
   ],
   "source": [
    "def filter_long_words (x,l):\n",
    "    long_words=[]\n",
    "    for i in range(len(x)):\n",
    "        if len(x[i])>l:\n",
    "            long_words.append(x[i])\n",
    "    return long_words\n",
    "\n",
    "string=input(\"Enter the string to make list of words ->\")           # my name is pankaj pandharinath dhakate\n",
    "l=string.split()\n",
    "n=int(input(\"Enter the integer to find list of words that are longer than integer-n => \"))     # 4\n",
    "print(\"The list of words that are longer than integer-n => {}\".format(filter_long_words(l,n)))"
   ]
  },
  {
   "cell_type": "markdown",
   "metadata": {},
   "source": [
    "## Task 2:\n",
    "#### 2.1 Write a Python program using function concept that maps list of words into a list of integers representing the lengths of the corresponding words. Hint: If a list [ ab,cde,erty] is passed on to the python function output should come as [2,3,4] Here 2,3 and 4 are the lengths of the words in the list."
   ]
  },
  {
   "cell_type": "code",
   "execution_count": 63,
   "metadata": {},
   "outputs": [
    {
     "name": "stdin",
     "output_type": "stream",
     "text": [
      "Enter the string to make list of words -> my name is pankaj pandharinath dhakate\n"
     ]
    },
    {
     "name": "stdout",
     "output_type": "stream",
     "text": [
      "The lengths of the corresponding words => [2, 4, 2, 6, 12, 7]\n"
     ]
    }
   ],
   "source": [
    "def word_length (x):\n",
    "    word_len=[]\n",
    "    for i in range(len(x)):\n",
    "        word_len.append(len(x[i]))\n",
    "    return word_len\n",
    "\n",
    "string=input(\"Enter the string to make list of words ->\")         # my name is pankaj pandharinath dhakate\n",
    "l=string.split()\n",
    "print(\"The lengths of the corresponding words => {}\".format(word_length(l)))"
   ]
  },
  {
   "cell_type": "markdown",
   "metadata": {},
   "source": [
    "## Task 2:\n",
    "#### 2.2 Write a Python function which takes a character (i.e. a string of length 1) and returns True if it is a vowel, False otherwise."
   ]
  },
  {
   "cell_type": "code",
   "execution_count": 64,
   "metadata": {},
   "outputs": [
    {
     "name": "stdin",
     "output_type": "stream",
     "text": [
      "A character i.e. a string of length 1-> o\n"
     ]
    },
    {
     "name": "stdout",
     "output_type": "stream",
     "text": [
      "True\n"
     ]
    }
   ],
   "source": [
    "def isvowel (x):\n",
    "    vowel=['a','e','i','o','u']\n",
    "    for i in range(len(vowel)):\n",
    "        if x==vowel[i]:\n",
    "            return True \n",
    "    return False\n",
    "\n",
    "char=input(\"Enter a character i.e. a string of length 1->\")\n",
    "print(isvowel(char))"
   ]
  },
  {
   "cell_type": "code",
   "execution_count": 65,
   "metadata": {},
   "outputs": [
    {
     "name": "stdin",
     "output_type": "stream",
     "text": [
      "Enter a character i.e. a string of length 1-> k\n"
     ]
    },
    {
     "name": "stdout",
     "output_type": "stream",
     "text": [
      "False\n"
     ]
    }
   ],
   "source": [
    "char=input(\"Enter a character i.e. a string of length 1->\")\n",
    "print(isvowel(char))"
   ]
  }
 ],
 "metadata": {
  "kernelspec": {
   "display_name": "Python 3",
   "language": "python",
   "name": "python3"
  },
  "language_info": {
   "codemirror_mode": {
    "name": "ipython",
    "version": 3
   },
   "file_extension": ".py",
   "mimetype": "text/x-python",
   "name": "python",
   "nbconvert_exporter": "python",
   "pygments_lexer": "ipython3",
   "version": "3.7.1"
  }
 },
 "nbformat": 4,
 "nbformat_minor": 2
}
